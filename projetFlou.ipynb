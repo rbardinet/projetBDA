{
 "cells": [
  {
   "cell_type": "code",
   "execution_count": 11,
   "metadata": {},
   "outputs": [
    {
     "name": "stdout",
     "output_type": "stream",
     "text": [
      "line = Year,Month,DayofMonth,DayOfWeek,DepTime,CRSDepTime,ArrTime,CRSArrTime,UniqueCarrier,FlightNum,TailNum,ActualElapsedTime,CRSElapsedTime,AirTime,ArrDelay,DepDelay,Origin,Dest,Distance,TaxiIn,TaxiOut,Cancelled,CancellationCode,Diverted,CarrierDelay,WeatherDelay,NASDelay,SecurityDelay,LateAircraftDelay\n",
      "\n",
      "striped line =  Year,Month,DayofMonth,DayOfWeek,DepTime,CRSDepTime,ArrTime,CRSArrTime,UniqueCarrier,FlightNum,TailNum,ActualElapsedTime,CRSElapsedTime,AirTime,ArrDelay,DepDelay,Origin,Dest,Distance,TaxiIn,TaxiOut,Cancelled,CancellationCode,Diverted,CarrierDelay,WeatherDelay,NASDelay,SecurityDelay,LateAircraftDelay\n",
      "-----------------------------\n",
      "Flight {'DayOfWeek': None, 'DepTime': None, 'AirTime': None, 'ArrDelay': None, 'DepDelay': None, 'ArrTime': None, 'Distance': None, 'Month': 'Month', 'DayOfMonth': None, 'TaxiIn': None, 'TaxiOut': None, 'CarrierDelay': 0, 'WeatherDelay': 0, 'SecurityDelay': 0, 'LateAircraftDelay': 0, 'Origin': 'Origin', 'Dest': 'Dest'}\n",
      "Rewritten flight : {'DayOfWeek.beginning': 0.0, 'DayOfWeek.end': 0.0, 'DayOfWeek.weekend': 0.0, 'DepTime.morning': 0.0, 'DepTime.midday': 0.0, 'DepTime.afternoon': 0.0, 'DepTime.evening': 0.0, 'DepTime.night': 0.0, 'ArrTime.morning': 0.0, 'ArrTime.midday': 0.0, 'ArrTime.afternoon': 0.0, 'ArrTime.evening': 0.0, 'ArrTime.night': 0.0, 'AirTime.veryShort': 0.0, 'AirTime.short': 0.0, 'AirTime.medium': 0.0, 'AirTime.long': 0.0, 'AirTime.veryLong': 0.0, 'ArrDelay.early': 0.0, 'ArrDelay.onTime': 0.0, 'ArrDelay.short': 0.0, 'ArrDelay.acceptable': 0.0, 'ArrDelay.long': 0.0, 'ArrDelay.veryLong': 0.0, 'DepDelay.none': 0.0, 'DepDelay.short': 0.0, 'DepDelay.acceptable': 0.0, 'DepDelay.long': 0.0, 'DepDelay.veryLong': 0.0, 'Distance.veryShort': 0.0, 'Distance.short': 0.0, 'Distance.medium': 0.0, 'Distance.long': 0.0, 'Distance.veryLong': 0.0, 'Month.winter': 0.0, 'Month.spring': 0.0, 'Month.summer': 0.0, 'Month.autumn': 0.0, 'DayOfMonth.beginning': 0.0, 'DayOfMonth.middle': 0.0, 'DayOfMonth.end': 0.0, 'TaxiIn.short': 0.0, 'TaxiIn.medium': 0.0, 'TaxiIn.long': 0.0, 'TaxiOut.short': 0.0, 'TaxiOut.medium': 0.0, 'TaxiOut.long': 0.0, 'CarrierDelay.none': 1.0, 'CarrierDelay.short': 0.0, 'CarrierDelay.acceptable': 0.0, 'CarrierDelay.long': 0.0, 'CarrierDelay.veryLong': 0.0, 'WeatherDelay.none': 1.0, 'WeatherDelay.short': 0.0, 'WeatherDelay.acceptable': 0.0, 'WeatherDelay.long': 0.0, 'WeatherDelay.veryLong': 0.0, 'SecurityDelay.none': 1.0, 'SecurityDelay.short': 0.0, 'SecurityDelay.acceptable': 0.0, 'SecurityDelay.long': 0.0, 'SecurityDelay.veryLong': 0.0, 'LateAirCraftDelay.none': 0.0, 'LateAirCraftDelay.short': 0.0, 'LateAirCraftDelay.acceptable': 0.0, 'LateAirCraftDelay.long': 0.0, 'LateAirCraftDelay.veryLong': 0.0, 'Origin.main': 0.0, 'Origin.big': 0.0, 'Origin.medium': 0.0, 'Origin.small': 0.0, 'Dest.main': 0.0, 'Dest.big': 0.0, 'Dest.medium': 0.0, 'Dest.small': 0.0}\n",
      "-----------------------------"
     ]
    },
    {
     "name": "stderr",
     "output_type": "stream",
     "text": [
      "Traceback (most recent call last):\n",
      "  File \"n:\\ad-\\Administratif\\ENSSAT\\COURS2021\\BaseDeDonnéesAvancées\\Projet\\baseProject_2020\\projetBDA\\Src\\rewriterFromCSV.py\", line 50, in readAndRewrite\n",
      "    if self.isValid(rewrite, flight_filters):\n",
      "  File \"n:\\ad-\\Administratif\\ENSSAT\\COURS2021\\BaseDeDonnéesAvancées\\Projet\\baseProject_2020\\projetBDA\\Src\\rewriterFromCSV.py\", line 22, in isValid\n",
      "    if f[key] != 1:\n",
      "KeyError: '{'\n",
      "\n",
      "During handling of the above exception, another exception occurred:\n",
      "\n",
      "Traceback (most recent call last):\n",
      "  File \"n:\\ad-\\Administratif\\ENSSAT\\COURS2021\\BaseDeDonnéesAvancées\\Projet\\baseProject_2020\\projetBDA\\Src\\rewriterFromCSV.py\", line 84, in <module>\n",
      "    rw.readAndRewrite(sys.argv[3])\n",
      "  File \"n:\\ad-\\Administratif\\ENSSAT\\COURS2021\\BaseDeDonnéesAvancées\\Projet\\baseProject_2020\\projetBDA\\Src\\rewriterFromCSV.py\", line 71, in readAndRewrite\n",
      "    raise Exception(\"Error while loading the dataFile %s\"%(self.dataFile))\n",
      "Exception: Error while loading the dataFile ./Data/test.csv\n"
     ]
    },
    {
     "name": "stdout",
     "output_type": "stream",
     "text": [
      "\n"
     ]
    }
   ],
   "source": [
    "!python ./Src/rewriterFromCSV.py ./Data/FlightsVoc.txt ./Data/test.csv\n"
   ]
  }
 ],
 "metadata": {
  "interpreter": {
   "hash": "1c3ea3198ba3828a3a741059bb3de7052ab89d7b3499ccf1f52d74ac5415a369"
  },
  "kernelspec": {
   "display_name": "Python 3.9.5 64-bit ('TP-DCbMQP93': pipenv)",
   "language": "python",
   "name": "python3"
  },
  "language_info": {
   "codemirror_mode": {
    "name": "ipython",
    "version": 3
   },
   "file_extension": ".py",
   "mimetype": "text/x-python",
   "name": "python",
   "nbconvert_exporter": "python",
   "pygments_lexer": "ipython3",
   "version": "3.9.5"
  },
  "orig_nbformat": 4
 },
 "nbformat": 4,
 "nbformat_minor": 2
}
